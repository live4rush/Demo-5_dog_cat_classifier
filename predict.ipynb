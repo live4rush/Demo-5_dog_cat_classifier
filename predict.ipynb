{
 "cells": [
  {
   "cell_type": "code",
   "execution_count": 18,
   "metadata": {},
   "outputs": [],
   "source": [
    "#!/usr/bin/env python3\n",
    "# -*- coding: utf-8 -*-\n",
    "import numpy as np\n",
    "import tensorflow as tf\n",
    "from tensorflow.keras.models import load_model\n",
    "from tensorflow.keras.preprocessing.image import load_img, img_to_array\n",
    "\n",
    "class DogCatClassifier:\n",
    "    def __init__(self, filename):\n",
    "        self.filename = filename\n",
    "\n",
    "    def preprocess_image(self):\n",
    "        image_path = self.filename\n",
    "        # Load the image\n",
    "        img = load_img(image_path, target_size=(64, 64))\n",
    "        # Convert the image to a numpy array\n",
    "        img_array = img_to_array(img)\n",
    "        # Expand dimensions to match the model's input format (adding batch size dimension)\n",
    "        img_array = np.expand_dims(img_array, axis=0)\n",
    "        # Normalize pixel values if your model expects normalization\n",
    "        img_array /= 255.0\n",
    "        print(img_array.shape)\n",
    "        return img_array\n",
    "\n",
    "    def prediction_dog_cat(self):\n",
    "        # Load model\n",
    "        model = load_model('model_new.h5')\n",
    "        processed_image = self.preprocess_image()\n",
    "\n",
    "        # Predict the class (0 for cat, 1 for dog)\n",
    "        result = model.predict(processed_image)\n",
    "\n",
    "        if result[0][0] > 0.5:\n",
    "            prediction = 'dog'\n",
    "        else:\n",
    "            prediction = 'cat'\n",
    "        return [{\"image\": prediction}]\n",
    "\n",
    "\n"
   ]
  },
  {
   "cell_type": "code",
   "execution_count": 19,
   "metadata": {},
   "outputs": [
    {
     "name": "stderr",
     "output_type": "stream",
     "text": [
      "WARNING:absl:Compiled the loaded model, but the compiled metrics have yet to be built. `model.compile_metrics` will be empty until you train or evaluate the model.\n"
     ]
    },
    {
     "name": "stdout",
     "output_type": "stream",
     "text": [
      "(1, 64, 64, 3)\n",
      "\u001b[1m1/1\u001b[0m \u001b[32m━━━━━━━━━━━━━━━━━━━━\u001b[0m\u001b[37m\u001b[0m \u001b[1m0s\u001b[0m 29ms/step\n",
      "[{'image': 'dog'}]\n"
     ]
    }
   ],
   "source": [
    "# Example usage:\n",
    "image_path = 'cat.jpg'\n",
    "classifier = DogCatClassifier(image_path)\n",
    "prediction_result = classifier.prediction_dog_cat()\n",
    "print(prediction_result)\n"
   ]
  }
 ],
 "metadata": {
  "kernelspec": {
   "display_name": "Python 3",
   "language": "python",
   "name": "python3"
  },
  "language_info": {
   "codemirror_mode": {
    "name": "ipython",
    "version": 3
   },
   "file_extension": ".py",
   "mimetype": "text/x-python",
   "name": "python",
   "nbconvert_exporter": "python",
   "pygments_lexer": "ipython3",
   "version": "3.9.18"
  }
 },
 "nbformat": 4,
 "nbformat_minor": 2
}
